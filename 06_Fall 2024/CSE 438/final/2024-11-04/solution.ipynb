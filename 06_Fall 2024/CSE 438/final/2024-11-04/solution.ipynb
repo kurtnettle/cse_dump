{
 "cells": [
  {
   "cell_type": "code",
   "execution_count": null,
   "id": "8ef3bb07-a8a8-46f5-89ca-42e057d266f2",
   "metadata": {
    "editable": true,
    "slideshow": {
     "slide_type": ""
    },
    "tags": []
   },
   "outputs": [],
   "source": [
    "# Lab Assessment 03\n",
    "## 04 November 2024"
   ]
  },
  {
   "cell_type": "code",
   "execution_count": null,
   "id": "90a49197-04ce-4d24-a49f-83a40faaf02c",
   "metadata": {},
   "outputs": [],
   "source": [
    "import pandas as pd\n",
    "import matplotlib.pyplot as plt"
   ]
  },
  {
   "cell_type": "code",
   "execution_count": null,
   "id": "b8cbc8a9-1497-4bd7-ad4f-30e2326c114b",
   "metadata": {},
   "outputs": [],
   "source": [
    "# 01. Reading Data\n",
    "\n",
    "IRIS_CSV_PATH = \"iris.csv\"\n",
    "\n",
    "file_path = IRIS_CSV_PATH\n",
    "iris_df = pd.read_csv(file_path)\n",
    "\n",
    "# testing if reading is successful\n",
    "iris_df.head()"
   ]
  },
  {
   "cell_type": "code",
   "execution_count": null,
   "id": "c3478d1a-d1a4-4d9e-bac5-862ea543893c",
   "metadata": {},
   "outputs": [],
   "source": [
    "# 02. checking the number of null val\n",
    "\n",
    "# number of null val in each col\n",
    "iris_df.isnull().sum()\n",
    "\n",
    "# 02.1 cleaning unwanted spaces around the data\n",
    "iris_df[\"variety\"] = iris_df[\"variety\"].str.strip()"
   ]
  },
  {
   "cell_type": "code",
   "execution_count": null,
   "id": "ad76e1f9-010f-4f90-a64f-8fadfb6cdeff",
   "metadata": {},
   "outputs": [],
   "source": [
    "# 03. Corr Mat\n",
    "\n",
    "corr_mat = iris_df.corr(numeric_only=True)\n",
    "corr_mat"
   ]
  },
  {
   "cell_type": "code",
   "execution_count": null,
   "id": "27aec335-cb24-43bc-aec8-4e80b494a359",
   "metadata": {},
   "outputs": [],
   "source": [
    "# unstack()\n",
    "# https://www.slingacademy.com/article/using-pandas-series-unstack-method/\n",
    "# https://ecoagi.ai/topics/Pandas/pandas-unstack\n",
    "# https://stackoverflow.com/q/69139030\n",
    "corr_pairs = corr_mat.unstack()\n",
    "\n",
    "# removing useless self-correlation (check the diagonal values in the matrix above)\n",
    "corr_pairs = corr_pairs[corr_pairs != 1]\n",
    "\n",
    "# idxmax() - Return index of first occurrence of maximum over requested axis.\n",
    "# read more https://proclusacademy.com/blog/quicktip/pandas-idxmin-idxmax\n",
    "highest_corr_pairs = corr_pairs.idxmax()\n",
    "\n",
    "highest_pairs_value = corr_pairs.max()\n",
    "\n",
    "highest_corr_pairs, highest_pairs_value"
   ]
  },
  {
   "cell_type": "code",
   "execution_count": null,
   "id": "023519a7-e57e-4eba-8bbf-bd0e321f8559",
   "metadata": {},
   "outputs": [],
   "source": [
    "import matplotlib.pyplot as plt\n",
    "\n",
    "plt.scatter(iris_df[\"sepal.length\"], iris_df[\"sepal.width\"])\n",
    "\n",
    "plt.title(\"Sepal Length vs. Sepal Width\")\n",
    "plt.xlabel(\"Sepal Length (cm)\")\n",
    "plt.ylabel(\"Sepal Width (cm)\")\n",
    "\n",
    "plt.show()"
   ]
  },
  {
   "cell_type": "code",
   "execution_count": null,
   "id": "df7ff820-3da8-4caf-961b-edeb51140653",
   "metadata": {},
   "outputs": [],
   "source": [
    "# (you can read the docs and define colors manually for each type of species)\n",
    "# plotting using matplotlib looked a bit difficult to me so I found seaborn."
   ]
  },
  {
   "cell_type": "code",
   "execution_count": null,
   "id": "0cfade2c-2987-44d2-9b85-6fcda42d44fc",
   "metadata": {},
   "outputs": [],
   "source": [
    "import matplotlib.pyplot as plt\n",
    "import seaborn as sns\n",
    "\n",
    "sns.scatterplot(\n",
    "    x=iris_df[\"sepal.length\"], \n",
    "    y=iris_df[\"sepal.width\"], \n",
    "    hue=iris_df[\"variety\"]\n",
    ")\n",
    "\n",
    "plt.title(\"sepal length vs width (by species)\")\n",
    "plt.xlabel(\"sepal length (cm)\")\n",
    "plt.ylabel(\"sepal width (cm)\")\n",
    "plt.legend(title=\"Species\")\n",
    "\n",
    "plt.tight_layout()\n",
    "\n",
    "plt.show()"
   ]
  }
 ],
 "metadata": {
  "kernelspec": {
   "display_name": "Python 3 (ipykernel)",
   "language": "python",
   "name": "python3"
  },
  "language_info": {
   "codemirror_mode": {
    "name": "ipython",
    "version": 3
   },
   "file_extension": ".py",
   "mimetype": "text/x-python",
   "name": "python",
   "nbconvert_exporter": "python",
   "pygments_lexer": "ipython3",
   "version": "3.12.7"
  }
 },
 "nbformat": 4,
 "nbformat_minor": 5
}
